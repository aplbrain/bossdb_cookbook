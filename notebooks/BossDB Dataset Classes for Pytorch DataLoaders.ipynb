{
 "cells": [
  {
   "cell_type": "code",
   "execution_count": 11,
   "metadata": {},
   "outputs": [],
   "source": [
    "from typing import Tuple, List\n",
    "from intern import array\n",
    "from torch.utils.data import Dataset\n",
    "from torchvision.transforms import ToTensor"
   ]
  },
  {
   "cell_type": "markdown",
   "metadata": {},
   "source": [
    "# Custom BossDB Dataset classes for Pytorch DataLoaders\n",
    "\n",
    "In this notebook we provide some example custom Dataset classes for use with Pytorch DataLoaders. Please see https://pytorch.org/tutorials/beginner/basics/data_tutorial.html  and https://pytorch.org/tutorials/beginner/data_loading_tutorial.html for additional information. These classes can easily be adapted for your specific needs.\n"
   ]
  },
  {
   "cell_type": "markdown",
   "metadata": {},
   "source": [
    "### Common Definitions:\n",
    "\n",
    "**boss_uri**: the BossDB path to the project, channel, and experiment you would like to use, e.g. `'bossdb://kuan_phelps2020/drosophila_brain_120nm/drBrain_120nm_rec'`\n",
    "\n",
    "**boss_config**: if you are accessing a private dataset you can pass your boss config information (see https://github.com/jhuapl-boss/intern/wiki/Boss-Setup-Tutorial) however if you are accessing a public dataset you do not need a config and can leave the default `None` input\n",
    "\n",
    "**centroid_list_zyx**: A list of coordinate points you would like the images/volumes/arrays to be centered on\n",
    "\n",
    "**px_radius_*** : A list of the number of pixels on either side of the centroid (i.e. the radius) you would like to include in the image/volume/array. e.g. if I wanted each image to be 128x128 pixels I would set this to `[64, 64]`\n",
    "\n",
    "**transform**: The transform or group of transforms you want to apply to the data. (see https://pytorch.org/tutorials/beginner/basics/transforms_tutorial.html)"
   ]
  },
  {
   "cell_type": "markdown",
   "metadata": {},
   "source": [
    "### Dataset class for when you need single image slices from the data "
   ]
  },
  {
   "cell_type": "code",
   "execution_count": 12,
   "metadata": {},
   "outputs": [],
   "source": [
    "class BossDBSliceDataset(Dataset):\n",
    "    \n",
    "    def __init__(\n",
    "        self, \n",
    "        boss_uri: str, \n",
    "        centroid_list_zyx: List[Tuple[int, int, int]],\n",
    "        px_radius_yx: Tuple[int, int],\n",
    "        boss_config: dict = None, \n",
    "        transform=ToTensor()\n",
    "        \n",
    "    ):\n",
    "        self.config = boss_config\n",
    "        self.array = array(boss_uri, boss_config=boss_config)\n",
    "        self.centroid_list = centroid_list_zyx\n",
    "        rad_y, rad_x = px_radius_yx\n",
    "        self.px_radius_y = rad_y\n",
    "        self.px_radius_x = rad_x\n",
    "        self.transform = transform\n",
    "    \n",
    "    def __getitem__(self, key):\n",
    "        z, y, x = self.centroid_list[key]\n",
    "        array =  self.array[\n",
    "            z : z + 1,\n",
    "            y - self.px_radius_y : y + self.px_radius_y,\n",
    "            x - self.px_radius_x : x + self.px_radius_x,\n",
    "        ]\n",
    "        if self.transform:\n",
    "            array = self.transform(array)\n",
    "            \n",
    "        return array\n",
    "\n",
    "    def __len__(self):\n",
    "        return len(self.centroid_list)"
   ]
  },
  {
   "cell_type": "markdown",
   "metadata": {},
   "source": [
    "### Dataset class for when you need single image slices and corresponding segmentation masks from the data "
   ]
  },
  {
   "cell_type": "code",
   "execution_count": 13,
   "metadata": {},
   "outputs": [],
   "source": [
    "class BossDBSliceDataset(Dataset):\n",
    "    \n",
    "    def __init__(\n",
    "        self, \n",
    "        image_boss_uri: str, \n",
    "        mask_boss_uri: str, \n",
    "        boss_config: dict, \n",
    "        centroid_list_zyx: List[Tuple[int, int, int]],\n",
    "        px_radius_yx: Tuple[int, int],\n",
    "        image_transform=ToTensor(),\n",
    "        mask_transform=None\n",
    "    ):\n",
    "        self.config = boss_config\n",
    "        self.image_array = array(image_boss_uri, boss_config=boss_config)\n",
    "        self.mask_array = array(mask_boss_uri, boss_config=boss_config)\n",
    "        self.centroid_list = centroid_list_zyx\n",
    "        rad_y, rad_x = px_radius_yx\n",
    "        self.px_radius_y = rad_y\n",
    "        self.px_radius_x = rad_x\n",
    "        self.image_transform = image_transform\n",
    "        self.mask_transform = mask_transform\n",
    "    \n",
    "    def __getitem__(self, key):\n",
    "        z, y, x = self.centroid_list[key]\n",
    "        image_array =  self.image_array[\n",
    "            z : z + 1,\n",
    "            y - self.px_radius_y : y + self.px_radius_y,\n",
    "            x - self.px_radius_x : x + self.px_radius_x,\n",
    "        ]\n",
    "        mask_array =  self.mask_array[\n",
    "            z : z + 1,\n",
    "            y - self.px_radius_y : y + self.px_radius_y,\n",
    "            x - self.px_radius_x : x + self.px_radius_x,\n",
    "        ]\n",
    "        \n",
    "        \n",
    "        if self.image_transform:\n",
    "            image_array= self.image_transform(image_array)\n",
    "            \n",
    "        if self.mask_transform:\n",
    "            mask_array = self.mask_transform(mask_array)\n",
    "        \n",
    "        mask_array = torch.from_numpy(mask_array.astype('int64')).long()\n",
    "            \n",
    "        return image_array, mask_array\n",
    "\n",
    "    def __len__(self):\n",
    "        return len(self.centroid_list)"
   ]
  },
  {
   "cell_type": "markdown",
   "metadata": {},
   "source": [
    "### Dataset class for when you need 3D image volumes from the data "
   ]
  },
  {
   "cell_type": "code",
   "execution_count": 14,
   "metadata": {},
   "outputs": [],
   "source": [
    "class BossDBDataset(Dataset):\n",
    "    \n",
    "    def __init__(\n",
    "        self, \n",
    "        boss_uri: str, \n",
    "        centroid_list_zyx: List[Tuple[int, int, int]],\n",
    "        px_radius_zyx: Tuple[int, int, int],\n",
    "        transform=ToTensor(),\n",
    "        boss_config: dict = None, \n",
    "    ):\n",
    "        self.config = boss_config\n",
    "        self.array = array(boss_uri, boss_config=boss_config)\n",
    "        self.centroid_list = centroid_list_zyx\n",
    "        rad_z, rad_y, rad_x = px_radius_zyx\n",
    "        self.px_radius_z = rad_z\n",
    "        self.px_radius_y = rad_y\n",
    "        self.px_radius_x = rad_x\n",
    "        self.transform = transform\n",
    "    \n",
    "    def __getitem__(self, key):\n",
    "        z, y, x = self.centroid_list[key]\n",
    "        array = self.array[\n",
    "            z - self.px_radius_z : z + self.px_radius_z,\n",
    "            y - self.px_radius_y : y + self.px_radius_y,\n",
    "            x - self.px_radius_x : x + self.px_radius_x,\n",
    "        ]\n",
    "        if self.transform:\n",
    "            array = self.transform(array)\n",
    "            \n",
    "        return array\n",
    "\n",
    "    def __len__(self):\n",
    "        return len(self.centroid_list)\n",
    "    "
   ]
  },
  {
   "cell_type": "markdown",
   "metadata": {},
   "source": [
    "### Dataset class for when you need 3D image volumes and corresponding segmentation masks from the data "
   ]
  },
  {
   "cell_type": "code",
   "execution_count": 15,
   "metadata": {},
   "outputs": [],
   "source": [
    "class BossDBDataset(Dataset):\n",
    "    \n",
    "    def __init__(\n",
    "        self, \n",
    "        image_boss_uri: str, \n",
    "        mask_boss_uri: str, \n",
    "        centroid_list_zyx: List[Tuple[int, int, int]],\n",
    "        px_radius_zyx: Tuple[int, int, int],\n",
    "        image_transform=ToTensor(),\n",
    "        mask_transform=None,\n",
    "        boss_config: dict = None, \n",
    "    ):\n",
    "        self.config = boss_config\n",
    "        self.image_array = array(image_boss_uri, boss_config=boss_config)\n",
    "        self.mask_array = array(mask_boss_uri, boss_config=boss_config)\n",
    "        self.centroid_list = centroid_list_zyx\n",
    "        rad_z, rad_y, rad_x = px_radius_zyx\n",
    "        self.px_radius_z = rad_z\n",
    "        self.px_radius_y = rad_y\n",
    "        self.px_radius_x = rad_x\n",
    "        self.image_transform = image_transform\n",
    "        self.mask_transform = mask_transform\n",
    "    \n",
    "    def __getitem__(self, key):\n",
    "        z, y, x = self.centroid_list[key]\n",
    "        image_array = self.image_array[\n",
    "            z - self.px_radius_z : z + self.px_radius_z,\n",
    "            y - self.px_radius_y : y + self.px_radius_y,\n",
    "            x - self.px_radius_x : x + self.px_radius_x,\n",
    "        ]\n",
    "        \n",
    "        mask_array = self.mask_array[\n",
    "            z - self.px_radius_z : z + self.px_radius_z,\n",
    "            y - self.px_radius_y : y + self.px_radius_y,\n",
    "            x - self.px_radius_x : x + self.px_radius_x,\n",
    "        ]\n",
    "        if self.image_transform:\n",
    "            image_array = self.transform(image_array)\n",
    "            \n",
    "        if self.mask_transform:\n",
    "            mask_array = self.mask_transform(mask_array)\n",
    "        \n",
    "        mask_array = torch.from_numpy(mask_array.astype('int64')).long()\n",
    "            \n",
    "        return image_array, mask_array\n",
    "\n",
    "    def __len__(self):\n",
    "        return len(self.centroid_list)"
   ]
  },
  {
   "cell_type": "code",
   "execution_count": null,
   "metadata": {},
   "outputs": [],
   "source": []
  }
 ],
 "metadata": {
  "kernelspec": {
   "display_name": "Python 3",
   "language": "python",
   "name": "python3"
  },
  "language_info": {
   "codemirror_mode": {
    "name": "ipython",
    "version": 3
   },
   "file_extension": ".py",
   "mimetype": "text/x-python",
   "name": "python",
   "nbconvert_exporter": "python",
   "pygments_lexer": "ipython3",
   "version": "3.8.3"
  }
 },
 "nbformat": 4,
 "nbformat_minor": 5
}
