{
 "cells": [
  {
   "cell_type": "markdown",
   "metadata": {},
   "source": [
    "# CloudVolume \n",
    "\n",
    "This is a demo notebook on how to get the size and volume on cloudvolume datasets. Cloudvolume is a severless python client for accessing data in a precompute format. It's a separate technology from what we have been using so far (bossDB) thats also used by the connectomics community to upload and download data. \n",
    "\n",
    "You can read more about CloudVolume here: https://github.com/seung-lab/cloud-volume\n",
    "\n",
    "First things first, lets install it to our environment."
   ]
  },
  {
   "cell_type": "code",
   "execution_count": 1,
   "metadata": {},
   "outputs": [
    {
     "name": "stdout",
     "output_type": "stream",
     "text": [
      "Requirement already satisfied: cloud-volume in /anaconda3/lib/python3.7/site-packages (3.5.1)\n",
      "Requirement already satisfied: google-cloud-core>=1.1.0 in /anaconda3/lib/python3.7/site-packages (from cloud-volume) (1.5.0)\n",
      "Requirement already satisfied: fpzip>=1.1.3 in /anaconda3/lib/python3.7/site-packages (from cloud-volume) (1.1.4)\n",
      "Requirement already satisfied: posix-ipc>=1.0.4 in /anaconda3/lib/python3.7/site-packages (from cloud-volume) (1.0.4)\n",
      "Requirement already satisfied: simplejpeg in /anaconda3/lib/python3.7/site-packages (from cloud-volume) (1.3.8)\n",
      "Requirement already satisfied: tenacity>=4.10.0 in /anaconda3/lib/python3.7/site-packages (from cloud-volume) (4.12.0)\n",
      "Requirement already satisfied: psutil==5.4.3 in /anaconda3/lib/python3.7/site-packages (from cloud-volume) (5.4.3)\n",
      "Requirement already satisfied: protobuf>=3.3.0 in /anaconda3/lib/python3.7/site-packages (from cloud-volume) (3.14.0)\n",
      "Requirement already satisfied: six>=1.10.0 in /anaconda3/lib/python3.7/site-packages (from cloud-volume) (1.15.0)\n",
      "Requirement already satisfied: python-dateutil in /anaconda3/lib/python3.7/site-packages (from cloud-volume) (2.8.1)\n",
      "Requirement already satisfied: gevent in /anaconda3/lib/python3.7/site-packages (from cloud-volume) (1.4.0)\n",
      "Requirement already satisfied: requests>=2.22.0 in /anaconda3/lib/python3.7/site-packages (from cloud-volume) (2.25.1)\n",
      "Requirement already satisfied: chardet>=3.0.4 in /anaconda3/lib/python3.7/site-packages (from cloud-volume) (3.0.4)\n",
      "Requirement already satisfied: boto3>=1.4.7 in /anaconda3/lib/python3.7/site-packages (from cloud-volume) (1.17.104)\n",
      "Requirement already satisfied: compressed-segmentation>=2.0.1 in /anaconda3/lib/python3.7/site-packages (from cloud-volume) (2.0.1)\n",
      "Requirement already satisfied: pysimdjson>=3.1.1 in /anaconda3/lib/python3.7/site-packages (from cloud-volume) (3.1.1)\n",
      "Requirement already satisfied: DracoPy in /anaconda3/lib/python3.7/site-packages (from cloud-volume) (0.0.11)\n",
      "Requirement already satisfied: fastremap>=1.9.2 in /anaconda3/lib/python3.7/site-packages (from cloud-volume) (1.10.2)\n",
      "Requirement already satisfied: python-jsonschema-objects>=0.3.3 in /anaconda3/lib/python3.7/site-packages (from cloud-volume) (0.3.10)\n",
      "Requirement already satisfied: cloud-files>=0.9.2 in /anaconda3/lib/python3.7/site-packages (from cloud-volume) (1.14.0)\n",
      "Requirement already satisfied: numpy>=1.13.3 in /anaconda3/lib/python3.7/site-packages (from cloud-volume) (1.21.0)\n",
      "Requirement already satisfied: tqdm in /anaconda3/lib/python3.7/site-packages (from cloud-volume) (4.31.1)\n",
      "Requirement already satisfied: Pillow>=4.2.1 in /anaconda3/lib/python3.7/site-packages (from cloud-volume) (8.3.0)\n",
      "Requirement already satisfied: google-cloud-storage>=1.24.1 in /anaconda3/lib/python3.7/site-packages (from cloud-volume) (1.35.0)\n",
      "Requirement already satisfied: urllib3[brotli,secure]>=1.25.7 in /anaconda3/lib/python3.7/site-packages (from cloud-volume) (1.26.6)\n",
      "Requirement already satisfied: json5 in /anaconda3/lib/python3.7/site-packages (from cloud-volume) (0.5.1)\n",
      "Requirement already satisfied: google-auth>=1.10.0 in /anaconda3/lib/python3.7/site-packages (from cloud-volume) (1.24.0)\n",
      "Requirement already satisfied: s3transfer<0.5.0,>=0.4.0 in /anaconda3/lib/python3.7/site-packages (from boto3>=1.4.7->cloud-volume) (0.4.2)\n",
      "Requirement already satisfied: jmespath<1.0.0,>=0.7.1 in /anaconda3/lib/python3.7/site-packages (from boto3>=1.4.7->cloud-volume) (0.9.4)\n",
      "Requirement already satisfied: botocore<1.21.0,>=1.20.104 in /anaconda3/lib/python3.7/site-packages (from boto3>=1.4.7->cloud-volume) (1.20.104)\n",
      "Requirement already satisfied: google-crc32c>=1.0.0 in /anaconda3/lib/python3.7/site-packages (from cloud-files>=0.9.2->cloud-volume) (1.0.0)\n",
      "Requirement already satisfied: brotli in /anaconda3/lib/python3.7/site-packages (from cloud-files>=0.9.2->cloud-volume) (1.0.7)\n",
      "Requirement already satisfied: crc32c in /anaconda3/lib/python3.7/site-packages (from cloud-files>=0.9.2->cloud-volume) (2.1)\n",
      "Requirement already satisfied: zstandard in /anaconda3/lib/python3.7/site-packages (from cloud-files>=0.9.2->cloud-volume) (0.14.0)\n",
      "Requirement already satisfied: pytest in /anaconda3/lib/python3.7/site-packages (from compressed-segmentation>=2.0.1->cloud-volume) (4.3.1)\n",
      "Requirement already satisfied: rsa<5,>=3.1.4 in /Users/xenesd1/.local/lib/python3.7/site-packages (from google-auth>=1.10.0->cloud-volume) (3.4.2)\n",
      "Requirement already satisfied: cachetools<5.0,>=2.0.0 in /anaconda3/lib/python3.7/site-packages (from google-auth>=1.10.0->cloud-volume) (3.1.1)\n",
      "Requirement already satisfied: setuptools>=40.3.0 in /anaconda3/lib/python3.7/site-packages (from google-auth>=1.10.0->cloud-volume) (40.8.0)\n",
      "Requirement already satisfied: pyasn1-modules>=0.2.1 in /anaconda3/lib/python3.7/site-packages (from google-auth>=1.10.0->cloud-volume) (0.2.6)\n",
      "Requirement already satisfied: google-api-core<2.0.0dev,>=1.21.0 in /anaconda3/lib/python3.7/site-packages (from google-cloud-core>=1.1.0->cloud-volume) (1.24.0)\n",
      "Requirement already satisfied: pytz in /anaconda3/lib/python3.7/site-packages (from google-api-core<2.0.0dev,>=1.21.0->google-cloud-core>=1.1.0->cloud-volume) (2018.9)\n",
      "Requirement already satisfied: googleapis-common-protos<2.0dev,>=1.6.0 in /anaconda3/lib/python3.7/site-packages (from google-api-core<2.0.0dev,>=1.21.0->google-cloud-core>=1.1.0->cloud-volume) (1.6.0)\n",
      "Requirement already satisfied: google-resumable-media<2.0dev,>=1.2.0 in /anaconda3/lib/python3.7/site-packages (from google-cloud-storage>=1.24.1->cloud-volume) (1.2.0)\n",
      "Requirement already satisfied: cffi>=1.0.0 in /anaconda3/lib/python3.7/site-packages (from google-crc32c>=1.0.0->cloud-files>=0.9.2->cloud-volume) (1.12.2)\n",
      "Requirement already satisfied: pycparser in /anaconda3/lib/python3.7/site-packages (from cffi>=1.0.0->google-crc32c>=1.0.0->cloud-files>=0.9.2->cloud-volume) (2.19)\n",
      "Requirement already satisfied: pyasn1<0.5.0,>=0.4.6 in /anaconda3/lib/python3.7/site-packages (from pyasn1-modules>=0.2.1->google-auth>=1.10.0->cloud-volume) (0.4.6)\n",
      "Requirement already satisfied: inflection>=0.2 in /anaconda3/lib/python3.7/site-packages (from python-jsonschema-objects>=0.3.3->cloud-volume) (0.3.1)\n",
      "Requirement already satisfied: jsonschema>=2.3 in /anaconda3/lib/python3.7/site-packages (from python-jsonschema-objects>=0.3.3->cloud-volume) (3.0.1)\n",
      "Requirement already satisfied: Markdown>=2.4 in /anaconda3/lib/python3.7/site-packages (from python-jsonschema-objects>=0.3.3->cloud-volume) (2.6.11)\n",
      "Requirement already satisfied: attrs>=17.4.0 in /anaconda3/lib/python3.7/site-packages (from jsonschema>=2.3->python-jsonschema-objects>=0.3.3->cloud-volume) (19.3.0)\n",
      "Requirement already satisfied: pyrsistent>=0.14.0 in /anaconda3/lib/python3.7/site-packages (from jsonschema>=2.3->python-jsonschema-objects>=0.3.3->cloud-volume) (0.14.11)\n",
      "Requirement already satisfied: idna<3,>=2.5 in /anaconda3/lib/python3.7/site-packages (from requests>=2.22.0->cloud-volume) (2.8)\n",
      "Requirement already satisfied: certifi>=2017.4.17 in /anaconda3/lib/python3.7/site-packages (from requests>=2.22.0->cloud-volume) (2019.3.9)\n",
      "Requirement already satisfied: brotlipy>=0.6.0 in /anaconda3/lib/python3.7/site-packages (from urllib3[brotli,secure]>=1.25.7->cloud-volume) (0.7.0)\n",
      "Requirement already satisfied: cryptography>=1.3.4 in /anaconda3/lib/python3.7/site-packages (from urllib3[brotli,secure]>=1.25.7->cloud-volume) (3.4.7)\n",
      "Requirement already satisfied: pyOpenSSL>=0.14 in /anaconda3/lib/python3.7/site-packages (from urllib3[brotli,secure]>=1.25.7->cloud-volume) (19.0.0)\n",
      "Requirement already satisfied: greenlet>=0.4.14 in /anaconda3/lib/python3.7/site-packages (from gevent->cloud-volume) (0.4.15)\n",
      "Requirement already satisfied: py>=1.5.0 in /anaconda3/lib/python3.7/site-packages (from pytest->compressed-segmentation>=2.0.1->cloud-volume) (1.8.0)\n",
      "Requirement already satisfied: atomicwrites>=1.0 in /anaconda3/lib/python3.7/site-packages (from pytest->compressed-segmentation>=2.0.1->cloud-volume) (1.3.0)\n",
      "Requirement already satisfied: pluggy>=0.7 in /anaconda3/lib/python3.7/site-packages (from pytest->compressed-segmentation>=2.0.1->cloud-volume) (0.9.0)\n",
      "Requirement already satisfied: more-itertools>=4.0.0 in /anaconda3/lib/python3.7/site-packages (from pytest->compressed-segmentation>=2.0.1->cloud-volume) (6.0.0)\n"
     ]
    },
    {
     "name": "stdout",
     "output_type": "stream",
     "text": [
      "\u001b[33mWARNING: You are using pip version 21.1.1; however, version 21.1.3 is available.\r\n",
      "You should consider upgrading via the '/anaconda3/bin/python -m pip install --upgrade pip' command.\u001b[0m\r\n"
     ]
    }
   ],
   "source": [
    "!pip3 install cloud-volume"
   ]
  },
  {
   "cell_type": "markdown",
   "metadata": {},
   "source": [
    "We can access cloudvolume datasets by import the CloudVolume object, similar to how we would import the BossRemote object to download bossDB data. "
   ]
  },
  {
   "cell_type": "code",
   "execution_count": 2,
   "metadata": {},
   "outputs": [],
   "source": [
    "from cloudvolume import CloudVolume"
   ]
  },
  {
   "cell_type": "markdown",
   "metadata": {},
   "source": [
    "We can \"connect\" to the cloudvolume instance by creating a new CloudVolume object with the \"cloudpath\" we are trying to connect to. The cloudpaths are found in the microns website. (https://www.microns-explorer.org/cortical-mm3) For example lets work with this cloudpath:\n",
    "\n",
    "    precomputed://https://bossdb-open-data.s3.amazonaws.com/microns/minnie/minnie65-phase3-em/aligned/v1"
   ]
  },
  {
   "cell_type": "markdown",
   "metadata": {},
   "source": [
    "Since cloudvolume already knows to work with precompute data, we can omit the `precomputed://` portion from the cloudpath. Also since we are using HTTPS (aka the internet) to connect to the data we have to specify `use_https=True` in the constructor. So what we would actually put in the code looks like this:"
   ]
  },
  {
   "cell_type": "code",
   "execution_count": 3,
   "metadata": {},
   "outputs": [],
   "source": [
    "vol = CloudVolume(\n",
    "    \"https://bossdb-open-data.s3.amazonaws.com/microns/minnie/minnie65-phase3-em/aligned/v1\", \n",
    "    use_https=True\n",
    ")"
   ]
  },
  {
   "cell_type": "markdown",
   "metadata": {},
   "source": [
    "This variable called `vol` now is a pointer to our dataset. It has a lot of helpful properties and methods which lets us get the information we need. For example, we can get the entire \"shape\" of the dataset by doing `vol.shape`."
   ]
  },
  {
   "cell_type": "code",
   "execution_count": 4,
   "metadata": {},
   "outputs": [
    {
     "data": {
      "text/plain": [
       "(212992, 180224, 13088, 1)"
      ]
     },
     "execution_count": 4,
     "metadata": {},
     "output_type": "execute_result"
    }
   ],
   "source": [
    "vol.shape"
   ]
  },
  {
   "cell_type": "markdown",
   "metadata": {},
   "source": [
    "We see a JSON (aka dictionary of key/values) of the information of the dataset by doing vol.info."
   ]
  },
  {
   "cell_type": "code",
   "execution_count": 5,
   "metadata": {},
   "outputs": [
    {
     "data": {
      "text/plain": [
       "{'data_type': 'uint8',\n",
       " 'num_channels': 1,\n",
       " 'scales': [{'chunk_sizes': [[128, 128, 16]],\n",
       "   'encoding': 'raw',\n",
       "   'key': '8_8_40',\n",
       "   'locked': True,\n",
       "   'resolution': [8, 8, 40],\n",
       "   'sharding': {'@type': 'neuroglancer_uint64_sharded_v1',\n",
       "    'data_encoding': 'gzip',\n",
       "    'hash': 'identity',\n",
       "    'minishard_bits': 6,\n",
       "    'minishard_index_encoding': 'gzip',\n",
       "    'preshift_bits': 9,\n",
       "    'shard_bits': 17},\n",
       "   'size': [212992, 180224, 13088],\n",
       "   'voxel_offset': [13824, 13824, 14816]},\n",
       "  {'chunk_sizes': [[64, 64, 64]],\n",
       "   'encoding': 'jpeg',\n",
       "   'key': '16_16_40',\n",
       "   'locked': True,\n",
       "   'resolution': [16, 16, 40],\n",
       "   'sharding': {'@type': 'neuroglancer_uint64_sharded_v1',\n",
       "    'data_encoding': 'raw',\n",
       "    'hash': 'identity',\n",
       "    'minishard_bits': 6,\n",
       "    'minishard_index_encoding': 'gzip',\n",
       "    'preshift_bits': 9,\n",
       "    'shard_bits': 15},\n",
       "   'size': [106496, 90112, 13088],\n",
       "   'voxel_offset': [6912, 6912, 14816]},\n",
       "  {'chunk_sizes': [[64, 64, 64]],\n",
       "   'encoding': 'jpeg',\n",
       "   'key': '32_32_40',\n",
       "   'locked': True,\n",
       "   'resolution': [32, 32, 40],\n",
       "   'sharding': {'@type': 'neuroglancer_uint64_sharded_v1',\n",
       "    'data_encoding': 'raw',\n",
       "    'hash': 'identity',\n",
       "    'minishard_bits': 6,\n",
       "    'minishard_index_encoding': 'gzip',\n",
       "    'preshift_bits': 9,\n",
       "    'shard_bits': 13},\n",
       "   'size': [53248, 45056, 13088],\n",
       "   'voxel_offset': [3456, 3456, 14816]},\n",
       "  {'chunk_sizes': [[64, 64, 64]],\n",
       "   'encoding': 'jpeg',\n",
       "   'key': '64_64_40',\n",
       "   'locked': True,\n",
       "   'resolution': [64, 64, 40],\n",
       "   'sharding': {'@type': 'neuroglancer_uint64_sharded_v1',\n",
       "    'data_encoding': 'raw',\n",
       "    'hash': 'identity',\n",
       "    'minishard_bits': 6,\n",
       "    'minishard_index_encoding': 'gzip',\n",
       "    'preshift_bits': 9,\n",
       "    'shard_bits': 11},\n",
       "   'size': [26624, 22528, 13088],\n",
       "   'voxel_offset': [1728, 1728, 14816]},\n",
       "  {'chunk_sizes': [[64, 64, 64]],\n",
       "   'encoding': 'jpeg',\n",
       "   'key': '128_128_80',\n",
       "   'locked': True,\n",
       "   'resolution': [128, 128, 80],\n",
       "   'sharding': {'@type': 'neuroglancer_uint64_sharded_v1',\n",
       "    'data_encoding': 'raw',\n",
       "    'hash': 'identity',\n",
       "    'minishard_bits': 6,\n",
       "    'minishard_index_encoding': 'gzip',\n",
       "    'preshift_bits': 9,\n",
       "    'shard_bits': 8},\n",
       "   'size': [13312, 11264, 6544],\n",
       "   'voxel_offset': [864, 864, 7408]},\n",
       "  {'chunk_sizes': [[64, 64, 64]],\n",
       "   'encoding': 'jpeg',\n",
       "   'key': '256_256_160',\n",
       "   'locked': True,\n",
       "   'resolution': [256, 256, 160],\n",
       "   'sharding': {'@type': 'neuroglancer_uint64_sharded_v1',\n",
       "    'data_encoding': 'raw',\n",
       "    'hash': 'identity',\n",
       "    'minishard_bits': 6,\n",
       "    'minishard_index_encoding': 'gzip',\n",
       "    'preshift_bits': 9,\n",
       "    'shard_bits': 5},\n",
       "   'size': [6656, 5632, 3272],\n",
       "   'voxel_offset': [432, 432, 3704]},\n",
       "  {'chunk_sizes': [[64, 64, 64]],\n",
       "   'encoding': 'jpeg',\n",
       "   'key': '512_512_320',\n",
       "   'locked': True,\n",
       "   'resolution': [512, 512, 320],\n",
       "   'sharding': {'@type': 'neuroglancer_uint64_sharded_v1',\n",
       "    'data_encoding': 'raw',\n",
       "    'hash': 'identity',\n",
       "    'minishard_bits': 6,\n",
       "    'minishard_index_encoding': 'gzip',\n",
       "    'preshift_bits': 9,\n",
       "    'shard_bits': 2},\n",
       "   'size': [3328, 2816, 1636],\n",
       "   'voxel_offset': [216, 216, 1852]},\n",
       "  {'chunk_sizes': [[64, 64, 64]],\n",
       "   'encoding': 'jpeg',\n",
       "   'key': '1024_1024_640',\n",
       "   'locked': True,\n",
       "   'resolution': [1024, 1024, 640],\n",
       "   'sharding': {'@type': 'neuroglancer_uint64_sharded_v1',\n",
       "    'data_encoding': 'raw',\n",
       "    'hash': 'identity',\n",
       "    'minishard_bits': 6,\n",
       "    'minishard_index_encoding': 'gzip',\n",
       "    'preshift_bits': 9,\n",
       "    'shard_bits': 0},\n",
       "   'size': [1664, 1408, 818],\n",
       "   'voxel_offset': [108, 108, 926]},\n",
       "  {'chunk_sizes': [[64, 64, 64]],\n",
       "   'encoding': 'jpeg',\n",
       "   'key': '2048_2048_1280',\n",
       "   'locked': True,\n",
       "   'resolution': [2048, 2048, 1280],\n",
       "   'sharding': {'@type': 'neuroglancer_uint64_sharded_v1',\n",
       "    'data_encoding': 'raw',\n",
       "    'hash': 'identity',\n",
       "    'minishard_bits': 6,\n",
       "    'minishard_index_encoding': 'gzip',\n",
       "    'preshift_bits': 6,\n",
       "    'shard_bits': 0},\n",
       "   'size': [832, 704, 409],\n",
       "   'voxel_offset': [54, 54, 463]}],\n",
       " 'type': 'image'}"
      ]
     },
     "execution_count": 5,
     "metadata": {},
     "output_type": "execute_result"
    }
   ],
   "source": [
    "vol.info"
   ]
  },
  {
   "cell_type": "markdown",
   "metadata": {},
   "source": [
    "So to get the total size remember we need the resolution and shape. We already got shape earlier and this info file tells us the resolution for each MIP level. MIP levels are different resolution levels where the higher the MIP level the smaller the data is in XYZ scale but at the cost of less detail. We can get the total size at the lowest available MIP level, 0. (this is the default)"
   ]
  },
  {
   "cell_type": "code",
   "execution_count": 6,
   "metadata": {},
   "outputs": [
    {
     "data": {
      "text/plain": [
       "Vec(8,8,40, dtype=int64)"
      ]
     },
     "execution_count": 6,
     "metadata": {},
     "output_type": "execute_result"
    }
   ],
   "source": [
    "vol.resolution"
   ]
  },
  {
   "cell_type": "markdown",
   "metadata": {},
   "source": [
    "Resolution values are in nanometers. We can get the volume of one voxel by multiplying these values."
   ]
  },
  {
   "cell_type": "code",
   "execution_count": 7,
   "metadata": {},
   "outputs": [],
   "source": [
    "voxel_volume = vol.resolution[0] * vol.resolution[1] * vol.resolution[2]"
   ]
  },
  {
   "cell_type": "markdown",
   "metadata": {},
   "source": [
    "We can then get the total volume by multiplying this with the total shape of the volume. "
   ]
  },
  {
   "cell_type": "code",
   "execution_count": 8,
   "metadata": {},
   "outputs": [],
   "source": [
    "total_voxels = vol.shape[0] * vol.shape[1] * vol.shape[2]\n",
    "total_volume = voxel_volume * total_voxels"
   ]
  },
  {
   "cell_type": "markdown",
   "metadata": {},
   "source": [
    "Printing and converting to micrometers cubed and millimeters cubed:"
   ]
  },
  {
   "cell_type": "code",
   "execution_count": 9,
   "metadata": {},
   "outputs": [
    {
     "name": "stdout",
     "output_type": "stream",
     "text": [
      "Total volume in um^3 1286142731.4746983\n",
      "Total volume in mm^3 1.2861427314746983\n"
     ]
    }
   ],
   "source": [
    "print(\"Total volume in um^3\", total_volume/1e9)\n",
    "print(\"Total volume in mm^3\", total_volume/1e18)"
   ]
  }
 ],
 "metadata": {
  "kernelspec": {
   "display_name": "Python 3 (ipykernel)",
   "language": "python",
   "name": "python3"
  },
  "language_info": {
   "codemirror_mode": {
    "name": "ipython",
    "version": 3
   },
   "file_extension": ".py",
   "mimetype": "text/x-python",
   "name": "python",
   "nbconvert_exporter": "python",
   "pygments_lexer": "ipython3",
   "version": "3.9.6"
  }
 },
 "nbformat": 4,
 "nbformat_minor": 2
}
